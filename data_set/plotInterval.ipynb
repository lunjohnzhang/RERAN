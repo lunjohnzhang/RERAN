{
 "cells": [
  {
   "cell_type": "code",
   "execution_count": 1,
   "metadata": {},
   "outputs": [],
   "source": [
    "######\n",
    "# plotInterval; plot how much time it take for each event to execute during replay vs. record\n",
    "#\n",
    "#####\n",
    "import sys\n",
    "import numpy as np\n",
    "import matplotlib.pyplot as plt"
   ]
  },
  {
   "cell_type": "code",
   "execution_count": 2,
   "metadata": {},
   "outputs": [],
   "source": [
    "def readReplayedInterval(file):\n",
    "    try:\n",
    "        intervalLines = open(file)\n",
    "    except:\n",
    "        print(\"file not found\")\n",
    "        sys.exit()\n",
    "    lines = intervalLines.readlines()\n",
    "    intervalBlocks = []\n",
    "    j = 0\n",
    "    while j < len(lines):\n",
    "        line = lines[j]\n",
    "        i = j\n",
    "        if \"Line Number\" in line:\n",
    "            intervals = []\n",
    "            i += int(line.split(\"=\")[1].strip())\n",
    "            j += 1\n",
    "            # count = 0\n",
    "            while j < i:\n",
    "                line = lines[j]\n",
    "                if \"microseconds\" in line:\n",
    "                    intervals.append(int(line.split(\":\")[1].strip()))\n",
    "                j += 1\n",
    "            intervalBlocks.append(intervals)\n",
    "        else:\n",
    "            j += 1\n",
    "\n",
    "    # print(intervalBlocks)\n",
    "    return intervalBlocks\n"
   ]
  },
  {
   "cell_type": "code",
   "execution_count": 3,
   "metadata": {},
   "outputs": [],
   "source": [
    "def readActualInterval(file):\n",
    "    try:\n",
    "        intervalLines = open(file)\n",
    "    except:\n",
    "        print(\"file not found\")\n",
    "        sys.exit()\n",
    "    lines = intervalLines.readlines()\n",
    "    intervals = []\n",
    "    for line in lines:\n",
    "        intervals.append(float(line.split(\":\")[1].strip()))\n",
    "    # print(intervals)\n",
    "    return intervals\n"
   ]
  },
  {
   "cell_type": "code",
   "execution_count": 6,
   "metadata": {},
   "outputs": [
    {
     "data": {
      "text/plain": [
       "[<matplotlib.lines.Line2D at 0x104470160>,\n",
       " <matplotlib.lines.Line2D at 0x104470630>,\n",
       " <matplotlib.lines.Line2D at 0x104470ac8>]"
      ]
     },
     "execution_count": 6,
     "metadata": {},
     "output_type": "execute_result"
    },
    {
     "data": {
      "image/png": "[encoded data removed]",
      "text/plain": [
       "<Figure size 432x288 with 1 Axes>"
      ]
     },
     "metadata": {
      "needs_background": "light"
     },
     "output_type": "display_data"
    }
   ],
   "source": [
    "intervalBlocks = readReplayedInterval(\"exp4/set2/replayIntervalSet2.txt\")\n",
    "actual = readActualInterval(\"exp4/set2/actualIntervalSet2.txt\")\n",
    "\n",
    "plt.axis([50, 80, -1000, 50000])\n",
    "block1 = intervalBlocks[0]\n",
    "block2 = intervalBlocks[1]\n",
    "block3 = intervalBlocks[2]\n",
    "block4 = intervalBlocks[3]\n",
    "block5 = intervalBlocks[4]\n",
    "\n",
    "# plt.plot(block1, 'r', block2, 'b', block3, 'g', block4, 'y', block5, 'k', actual, 'm')\n",
    "plt.plot(block1, 'ro', block2, 'bo', actual, 'mo')"
   ]
  },
  {
   "cell_type": "code",
   "execution_count": 7,
   "metadata": {},
   "outputs": [
    {
     "data": {
      "text/plain": [
       "[<matplotlib.lines.Line2D at 0x1043c11d0>,\n",
       " <matplotlib.lines.Line2D at 0x1043c16a0>,\n",
       " <matplotlib.lines.Line2D at 0x1043c1b38>]"
      ]
     },
     "execution_count": 7,
     "metadata": {},
     "output_type": "execute_result"
    },
    {
     "data": {
      "image/png": "[encoded data removed]",
      "text/plain": [
       "<Figure size 432x288 with 1 Axes>"
      ]
     },
     "metadata": {
      "needs_background": "light"
     },
     "output_type": "display_data"
    }
   ],
   "source": [
    "intervalBlocks = readReplayedInterval(\"exp4/set2/replayIntervalSet2.txt\")\n",
    "actual = readActualInterval(\"exp4/set2/actualIntervalSet2.txt\")\n",
    "plt.axis([50, 80, 0, 50000])\n",
    "block1 = intervalBlocks[0]\n",
    "block2 = intervalBlocks[1]\n",
    "block3 = intervalBlocks[2]\n",
    "block4 = intervalBlocks[3]\n",
    "block5 = intervalBlocks[4]\n",
    "\n",
    "plt.plot(block1, 'ro', block2, 'bo', actual, 'mo')"
   ]
  }
 ],
 "metadata": {
  "kernelspec": {
   "display_name": "Python 3",
   "language": "python",
   "name": "python3"
  },
  "language_info": {
   "codemirror_mode": {
    "name": "ipython",
    "version": 3
   },
   "file_extension": ".py",
   "mimetype": "text/x-python",
   "name": "python",
   "nbconvert_exporter": "python",
   "pygments_lexer": "ipython3",
   "version": "3.6.5"
  }
 },
 "nbformat": 4,
 "nbformat_minor": 2
}
