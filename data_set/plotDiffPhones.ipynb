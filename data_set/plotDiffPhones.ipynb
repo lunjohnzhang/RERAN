{
 "cells": [
  {
   "cell_type": "code",
   "execution_count": 25,
   "metadata": {},
   "outputs": [],
   "source": [
    "import numpy as np\n",
    "import matplotlib.pyplot as plt"
   ]
  },
  {
   "cell_type": "code",
   "execution_count": 1,
   "metadata": {},
   "outputs": [
    {
     "name": "stdout",
     "output_type": "stream",
     "text": [
      "[1.598362892790688, 1.6151457031649903, 1.6742851301982458, 1.593567804112316, 1.6439162352352228, 1.598362892790688, 1.6686908600734782, 1.5272357440615023, 1.6439162352352228, 1.5160472038119674, 1.5999612556834788, 1.9156379270096395, 1.4361290591724332, 1.5616005462565021, 1.3450223742833638, 1.34741991862255, 1.3354321969266199, 1.368198636228829, 1.3466207371761547, 1.3442231928369688, 1.3689978176752242, 1.3522150073009223, 1.3562109145328987, 1.3554117330865036, 1.365801091889643, 1.3282395639090618, 1.3226452937842945, 1.353813370193713, 1.317051023659527, 1.3594076403184803, 1.333034652587434, 1.342624829944178, 1.3434240113905733, 1.353813370193713, 1.3586084588720848, 1.3322354711410387, 1.3314362896946432, 1.3370305598194105, 1.3434240113905733, 1.34741991862255]\n",
      "[1.4804856895056375, 1.4778837814397225, 1.464006938421509, 1.463139635732871, 1.4978317432784043, 1.4787510841283609, 1.530789245446661, 1.4778837814397225, 1.4648742411101476, 1.4657415437987857, 1.4787510841283609, 1.496964440589766, 1.5047701647875111, 1.4822202948829142, 1.4648742411101476, 1.5394622723330442, 1.5065047701647878, 1.4692107545533393, 1.476149176062446, 1.4744145706851692, 1.4752818733738078, 1.4882914137033825, 1.4648742411101476, 1.4770164787510842, 1.5377276669557678, 1.4796183868169992, 1.4934952298352124, 1.4804856895056375, 1.476149176062446, 1.4744145706851692, 1.4787510841283609, 1.559410234171726, 1.4882914137033825, 1.5108412836079794, 1.4770164787510842, 1.4726799653078926, 1.476149176062446, 1.4752818733738078, 1.476149176062446, 1.476149176062446]\n"
     ]
    }
   ],
   "source": [
    "import sys\n",
    "def readIn(file, actual):\n",
    "    try:\n",
    "        replay = open(file)\n",
    "    except:\n",
    "        print(\"file not found\")\n",
    "        sys.exit()\n",
    "\n",
    "    lines = replay.readlines()\n",
    "    times = []\n",
    "    for i, line in enumerate(lines):\n",
    "        if i >= 40:\n",
    "            break;\n",
    "        timeRaw = line.split(\"real\")[0].strip()\n",
    "        times.append(float(timeRaw)/actual)\n",
    "    return times\n",
    "times1 = readIn(\"exp2/replayTimeSet1.txt\", 12.512803)\n",
    "print(times1)\n",
    "times2 = readIn(\"exp2/replayTimeSet2.txt\", 11.53)\n",
    "print(times2)"
   ]
  },
  {
   "cell_type": "code",
   "execution_count": 35,
   "metadata": {
    "scrolled": false
   },
   "outputs": [
    {
     "data": {
      "text/plain": [
       "[<matplotlib.lines.Line2D at 0x10e86a630>,\n",
       " <matplotlib.lines.Line2D at 0x10e96c9b0>]"
      ]
     },
     "execution_count": 35,
     "metadata": {},
     "output_type": "execute_result"
    },
    {
     "data": {
      "image/png": "[encoded data removed]",
      "text/plain": [
       "<Figure size 432x288 with 1 Axes>"
      ]
     },
     "metadata": {
      "needs_background": "light"
     },
     "output_type": "display_data"
    }
   ],
   "source": [
    "plt.axis([0, 40, 1, 2])\n",
    "plt.plot(times1, 'ro', times2, 'bs')"
   ]
  },
  {
   "cell_type": "code",
   "execution_count": null,
   "metadata": {},
   "outputs": [],
   "source": []
  }
 ],
 "metadata": {
  "kernelspec": {
   "display_name": "Python 3",
   "language": "python",
   "name": "python3"
  },
  "language_info": {
   "codemirror_mode": {
    "name": "ipython",
    "version": 3
   },
   "file_extension": ".py",
   "mimetype": "text/x-python",
   "name": "python",
   "nbconvert_exporter": "python",
   "pygments_lexer": "ipython3",
   "version": "3.6.5"
  }
 },
 "nbformat": 4,
 "nbformat_minor": 2
}
